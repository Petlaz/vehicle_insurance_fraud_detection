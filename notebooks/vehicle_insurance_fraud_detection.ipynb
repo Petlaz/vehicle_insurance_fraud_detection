{
 "cells": [
  {
   "cell_type": "markdown",
   "id": "1e79ec7a",
   "metadata": {},
   "source": [
    "1. Project Setup"
   ]
  },
  {
   "cell_type": "markdown",
   "id": "1dd95174",
   "metadata": {},
   "source": [
    "# Add project root to sys.path so local imports work\n",
    "import sys\n",
    "from pathlib import Path\n",
    "project_root = Path.cwd().parent  # Assuming the notebook is in notebook/\n",
    "if str(project_root) not in sys.path:\n",
    "    sys.path.insert(0, str(project_root))\n"
   ]
  },
  {
   "cell_type": "markdown",
   "id": "b6c3ae64",
   "metadata": {},
   "source": [
    "2. Import Required Modules"
   ]
  },
  {
   "cell_type": "code",
   "execution_count": null,
   "id": "cc7e3641",
   "metadata": {
    "vscode": {
     "languageId": "plaintext"
    }
   },
   "outputs": [],
   "source": [
    "import pandas as pd\n",
    "import joblib\n",
    "from sklearn.metrics import confusion_matrix, roc_auc_score, roc_curve\n",
    "\n",
    "# Your custom project modules\n",
    "from vehicle_insurance_fraud_detection.dataset import load_clean_data\n",
    "from vehicle_insurance_fraud_detection.features import split_features_targets\n",
    "from vehicle_insurance_fraud_detection.modeling.tune_and_save_best_xgb import XGBoostTuner\n",
    "from vehicle_insurance_fraud_detection.plots import (\n",
    "    plot_class_distribution,\n",
    "    plot_feature_importance,\n",
    "    plot_confusion_matrix,\n",
    "    plot_roc_curve\n",
    ")\n",
    "from vehicle_insurance_fraud_detection.config import MODELS_DIR\n"
   ]
  },
  {
   "cell_type": "markdown",
   "id": "27a8030d",
   "metadata": {},
   "source": [
    "3. Load and Explore Dataset"
   ]
  },
  {
   "cell_type": "code",
   "execution_count": null,
   "id": "cd7c62d5",
   "metadata": {
    "vscode": {
     "languageId": "plaintext"
    }
   },
   "outputs": [],
   "source": [
    "df = load_clean_data()\n",
    "df.head()\n",
    "df.info()\n",
    "df.describe()\n"
   ]
  },
  {
   "cell_type": "markdown",
   "id": "c514195e",
   "metadata": {},
   "source": [
    "4. Visualize Class Imbalance"
   ]
  },
  {
   "cell_type": "markdown",
   "id": "f9564906",
   "metadata": {},
   "source": [
    "_, y = split_features_targets(df)\n",
    "fig = plot_class_distribution(y)\n",
    "fig.show()\n"
   ]
  },
  {
   "cell_type": "markdown",
   "id": "2849f7d5",
   "metadata": {},
   "source": [
    "5. Split Features and Targets"
   ]
  },
  {
   "cell_type": "markdown",
   "id": "1235e026",
   "metadata": {},
   "source": [
    "X, y = split_features_targets(df)\n"
   ]
  },
  {
   "cell_type": "markdown",
   "id": "c6411d8a",
   "metadata": {},
   "source": [
    "6. Train Best Model with SMOTE + Hyperparameter Tuning"
   ]
  },
  {
   "cell_type": "markdown",
   "id": "301f2652",
   "metadata": {},
   "source": [
    "from imblearn.over_sampling import SMOTE\n",
    "smote = SMOTE(random_state=42)\n",
    "X_resampled, y_resampled = smote.fit_resample(X, y)\n",
    "\n",
    "tuner = XGBoostTuner()\n",
    "best_model = tuner.tune(X_resampled, y_resampled)\n"
   ]
  },
  {
   "cell_type": "markdown",
   "id": "bf012d49",
   "metadata": {},
   "source": [
    "7. Feature Importance"
   ]
  },
  {
   "cell_type": "markdown",
   "id": "b1cc9175",
   "metadata": {},
   "source": [
    "# Extract importance\n",
    "model = joblib.load(MODELS_DIR / \"best_xgb_model.pkl\")\n",
    "feature_names = X.columns\n",
    "importances = model.named_steps[\"xgb\"].feature_importances_\n",
    "\n",
    "importance_df = pd.DataFrame({\n",
    "    \"Feature\": feature_names,\n",
    "    \"Importance\": importances\n",
    "})\n",
    "\n",
    "fig = plot_feature_importance(importance_df)\n",
    "fig.show()\n"
   ]
  },
  {
   "cell_type": "markdown",
   "id": "13f51342",
   "metadata": {},
   "source": [
    "8. Evaluation on Training Data (for now)"
   ]
  },
  {
   "cell_type": "markdown",
   "id": "2dd56ab0",
   "metadata": {},
   "source": [
    "y_pred = model.predict(X)\n",
    "y_proba = model.predict_proba(X)[:, 1]\n",
    "\n",
    "cm = confusion_matrix(y, y_pred)\n",
    "fig = plot_confusion_matrix(cm)\n",
    "fig.show()\n",
    "\n",
    "roc_score = roc_auc_score(y, y_proba)\n",
    "fpr, tpr, _ = roc_curve(y, y_proba)\n",
    "fig = plot_roc_curve(fpr, tpr, roc_score)\n",
    "fig.show()\n"
   ]
  },
  {
   "cell_type": "markdown",
   "id": "a493385a",
   "metadata": {},
   "source": [
    "9. Save Artifacts "
   ]
  },
  {
   "cell_type": "markdown",
   "id": "69fe9c55",
   "metadata": {},
   "source": [
    "# Save feature names\n",
    "with open(MODELS_DIR / \"feature_names.txt\", \"w\") as f:\n",
    "    for name in feature_names:\n",
    "        f.write(f\"{name}\\n\")\n"
   ]
  },
  {
   "cell_type": "markdown",
   "id": "ab75fa87",
   "metadata": {},
   "source": [
    "10. Conclusion"
   ]
  },
  {
   "cell_type": "markdown",
   "id": "d50cbe56",
   "metadata": {},
   "source": [
    "- Model: XGBoost with SMOTE\n",
    "- Best F1 Score from CV: (check tuner output)\n",
    "- The model predicts fraudulent insurance claims with reasonable confidence.\n",
    "- You can deploy this model via Streamlit, which you've already done.\n"
   ]
  },
  {
   "cell_type": "markdown",
   "id": "8f5071e7",
   "metadata": {},
   "source": [
    "##### All the entire notebook is on my GitHub"
   ]
  },
  {
   "cell_type": "markdown",
   "id": "29f7797c",
   "metadata": {},
   "source": []
  }
 ],
 "metadata": {
  "language_info": {
   "name": "python"
  }
 },
 "nbformat": 4,
 "nbformat_minor": 5
}

{
 "cells": [
  {
   "cell_type": "code",
   "execution_count": 17,
   "id": "8ea15755",
   "metadata": {},
   "outputs": [],
   "source": [
    "import sys\n",
    "from pathlib import Path\n",
    "\n",
    "# Go one level up from notebooks/ to reach project root\n",
    "project_root = Path.cwd().parent  \n",
    "if str(project_root) not in sys.path:\n",
    "    sys.path.insert(0, str(project_root))\n"
   ]
  },
  {
   "cell_type": "markdown",
   "id": "43f4de15",
   "metadata": {},
   "source": [
    "1. Imports & Configuration\n"
   ]
  },
  {
   "cell_type": "code",
   "execution_count": 18,
   "id": "7953090d",
   "metadata": {},
   "outputs": [],
   "source": [
    "import joblib\n",
    "import numpy as np\n",
    "import pandas as pd\n",
    "import matplotlib.pyplot as plt\n",
    "import seaborn as sns\n",
    "\n",
    "from vehicle_insurance_fraud_detection.dataset import load_clean_data\n",
    "from vehicle_insurance_fraud_detection.features import split_features_targets\n",
    "from vehicle_insurance_fraud_detection.config import MODELS_DIR\n",
    "\n",
    "from sklearn.model_selection import train_test_split\n",
    "from sklearn.metrics import (\n",
    "    accuracy_score,\n",
    "    classification_report,\n",
    "    confusion_matrix,\n",
    "    roc_auc_score,\n",
    "    RocCurveDisplay\n",
    ")\n"
   ]
  },
  {
   "cell_type": "markdown",
   "id": "636d6306",
   "metadata": {},
   "source": [
    "2. Load and Prepare Data"
   ]
  },
  {
   "cell_type": "code",
   "execution_count": null,
   "id": "17299255",
   "metadata": {},
   "outputs": [],
   "source": []
  }
 ],
 "metadata": {
  "kernelspec": {
   "display_name": "Python 3",
   "language": "python",
   "name": "python3"
  },
  "language_info": {
   "codemirror_mode": {
    "name": "ipython",
    "version": 3
   },
   "file_extension": ".py",
   "mimetype": "text/x-python",
   "name": "python",
   "nbconvert_exporter": "python",
   "pygments_lexer": "ipython3",
   "version": "3.11.13"
  }
 },
 "nbformat": 4,
 "nbformat_minor": 5
}
